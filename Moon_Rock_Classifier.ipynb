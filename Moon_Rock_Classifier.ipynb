{
 "cells": [
  {
   "cell_type": "markdown",
   "id": "0beb8257",
   "metadata": {},
   "source": [
    "# Moon rock classifier "
   ]
  },
  {
   "cell_type": "code",
   "execution_count": 27,
   "id": "e98cf0ef",
   "metadata": {},
   "outputs": [
    {
     "name": "stdout",
     "output_type": "stream",
     "text": [
      "Appolo 11 Rock scanner is starting\n",
      "Reading Rocks\n",
      "\n",
      "Total number of Basalt type rocks : 10\n",
      "Total number of Braccia type rocks : 20\n",
      "Total number of Highland type rocks : 20\n",
      "Total Number of Regolith type rocks : 15\n",
      "Total number of unknown rocks :  0\n",
      "\n",
      "\n",
      "Houston im done with the search \n",
      "\n",
      "\n",
      "Roger that\n"
     ]
    }
   ],
   "source": [
    "print(\"Appolo 11 Rock scanner is starting\")\n",
    "Basalt=0            #initializing the rock count to zero\n",
    "Braccia=0\n",
    "Highland=0\n",
    "Regolith=0\n",
    "unKnown_rockCount=0\n",
    "filehandler=open('Rockclassifier.txt')    #opening the file \n",
    "x=filehandler.readline()                  #reading first line from the file\n",
    "print(x)\n",
    "\n",
    "def countRocks(idOfrock):                #Function definition \n",
    "    global Basalt                        #making all the rocks global varibles for accessing \n",
    "    global Braccia\n",
    "    global Highland\n",
    "    global Regolith\n",
    "    idOfrock=idOfrock.lower()\n",
    "    if 'basalt' in idOfrock :          \n",
    "        Basalt +=1\n",
    "    elif 'braccia' in idOfrock :\n",
    "        Braccia +=1\n",
    "    elif 'highland' in idOfrock :\n",
    "        Highland +=1\n",
    "    elif 'regolith' in idOfrock :\n",
    "        Regolith +=1\n",
    "    else:\n",
    "        unKnown_rockCount +=1\n",
    "  \n",
    "   \n",
    "        \n",
    "rocklist=filehandler.readlines()         #the readlines method return the entire content in the form of list of strings\n",
    "\n",
    "for rock in rocklist:  \n",
    "    countRocks(rock)                                    #function call \n",
    "print('Total number of Basalt type rocks :',Basalt)\n",
    "print('Total number of Braccia type rocks :',Braccia)\n",
    "print('Total number of Highland type rocks :',Highland)\n",
    "print('Total Number of Regolith type rocks :',Regolith)\n",
    "print('Total number of unknown rocks : ',unKnown_rockCount)\n",
    "print('\\n')\n",
    "print('Houston im done with the search ')\n",
    "print('\\n')\n",
    "print('Roger that')\n",
    "filehandler.close()                                      #closing the file        "
   ]
  }
 ],
 "metadata": {
  "kernelspec": {
   "display_name": "Python 3",
   "language": "python",
   "name": "python3"
  },
  "language_info": {
   "codemirror_mode": {
    "name": "ipython",
    "version": 3
   },
   "file_extension": ".py",
   "mimetype": "text/x-python",
   "name": "python",
   "nbconvert_exporter": "python",
   "pygments_lexer": "ipython3",
   "version": "3.8.8"
  }
 },
 "nbformat": 4,
 "nbformat_minor": 5
}
